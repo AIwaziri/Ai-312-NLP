{
 "cells": [
  {
   "cell_type": "code",
   "id": "initial_id",
   "metadata": {
    "collapsed": true,
    "ExecuteTime": {
     "end_time": "2025-03-18T17:26:03.748456Z",
     "start_time": "2025-03-18T17:25:58.733888Z"
    }
   },
   "source": [
    "import nltk\n",
    "from nltk.util import bigrams\n",
    "from collections import Counter"
   ],
   "outputs": [],
   "execution_count": 1
  },
  {
   "metadata": {
    "ExecuteTime": {
     "end_time": "2025-03-18T17:27:55.497694Z",
     "start_time": "2025-03-18T17:27:55.495349Z"
    }
   },
   "cell_type": "code",
   "source": [
    "#  a string from the BeRP dataset\n",
    "text = './transcript.txt' # Path to the BeRP dataset"
   ],
   "id": "94645f62842a7108",
   "outputs": [],
   "execution_count": 2
  },
  {
   "metadata": {
    "ExecuteTime": {
     "end_time": "2025-03-18T17:38:48.368279Z",
     "start_time": "2025-03-18T17:38:48.363031Z"
    }
   },
   "cell_type": "code",
   "source": [
    "# Tokenize the text\n",
    "tokens = nltk.word_tokenize(text.lower())  # Lowercase to maintain consistency"
   ],
   "id": "d22049cc2a08de0c",
   "outputs": [],
   "execution_count": 20
  },
  {
   "metadata": {
    "ExecuteTime": {
     "end_time": "2025-03-18T17:38:48.772309Z",
     "start_time": "2025-03-18T17:38:48.769908Z"
    }
   },
   "cell_type": "code",
   "source": [
    "# Generate bigrams\n",
    "bi_grams = list(bigrams(tokens))"
   ],
   "id": "917d4de54b97bbf2",
   "outputs": [],
   "execution_count": 21
  },
  {
   "metadata": {
    "ExecuteTime": {
     "end_time": "2025-03-18T17:38:49.187314Z",
     "start_time": "2025-03-18T17:38:49.184787Z"
    }
   },
   "cell_type": "code",
   "source": [
    "# Calculate frequency distributions for unigrams and bigrams\n",
    "unigram_freq = Counter(tokens)\n",
    "bigram_freq = Counter(bi_grams)"
   ],
   "id": "fb70b6361568ad34",
   "outputs": [],
   "execution_count": 22
  },
  {
   "metadata": {
    "ExecuteTime": {
     "end_time": "2025-03-18T17:38:49.623717Z",
     "start_time": "2025-03-18T17:38:49.621794Z"
    }
   },
   "cell_type": "code",
   "source": [
    "# Set discount factor\n",
    "D = 0.75"
   ],
   "id": "79b0df8a4c2cb18",
   "outputs": [],
   "execution_count": 23
  },
  {
   "metadata": {
    "ExecuteTime": {
     "end_time": "2025-03-18T17:38:50.436939Z",
     "start_time": "2025-03-18T17:38:50.434702Z"
    }
   },
   "cell_type": "code",
   "source": [
    "# Compute continuation probability (number of unique preceding words for w2)\n",
    "continuation_counts = Counter()\n",
    "for (w1, w2) in bigram_freq.keys():\n",
    "    continuation_counts[w2] += 1\n",
    "\n"
   ],
   "id": "9591154f953081b8",
   "outputs": [],
   "execution_count": 24
  },
  {
   "metadata": {
    "ExecuteTime": {
     "end_time": "2025-03-18T17:38:51.133637Z",
     "start_time": "2025-03-18T17:38:51.131695Z"
    }
   },
   "cell_type": "code",
   "source": [
    "# Total number of bigram types\n",
    "total_bigrams = len(bigram_freq)\n"
   ],
   "id": "bf4d24f434efce31",
   "outputs": [],
   "execution_count": 25
  },
  {
   "metadata": {
    "ExecuteTime": {
     "end_time": "2025-03-18T17:38:51.965390Z",
     "start_time": "2025-03-18T17:38:51.962856Z"
    }
   },
   "cell_type": "code",
   "source": [
    "# Compute probabilities using Kneser-Ney Smoothing\n",
    "bigram_probabilities_kn = {}\n",
    "for (w1, w2), count in bigram_freq.items():\n",
    "    # Discounted bigram probability\n",
    "    prob_kn = max(count - D, 0) / unigram_freq[w1]\n",
    "\n",
    "    # Continuation probability\n",
    "    P_cont = continuation_counts[w2] / total_bigrams\n",
    "\n",
    "    # Normalization factor λ(w1)\n",
    "    lambda_w1 = (D / unigram_freq[w1]) * len([w for (w, _) in bigram_freq if w == w1])\n",
    "\n",
    "    # Final probability\n",
    "    bigram_probabilities_kn[(w1, w2)] = prob_kn + lambda_w1 * P_cont"
   ],
   "id": "118cea2facf347bb",
   "outputs": [],
   "execution_count": 26
  },
  {
   "metadata": {
    "ExecuteTime": {
     "end_time": "2025-03-18T17:38:52.797231Z",
     "start_time": "2025-03-18T17:38:52.794726Z"
    }
   },
   "cell_type": "code",
   "source": [
    "# Function to calculate sentence probability using Kneser-Ney\n",
    "def calculate_sentence_probability(sentence):\n",
    "    tokens = nltk.word_tokenize(sentence.lower())\n",
    "    prob = 1.0\n",
    "    for i in range(1, len(tokens)):\n",
    "        w1 = tokens[i - 1]\n",
    "        w2 = tokens[i]\n",
    "        prob *= bigram_probabilities_kn.get((w1, w2), 1e-10)  # Small value if unseen\n",
    "    return prob\n"
   ],
   "id": "413cc222bb7ad7a9",
   "outputs": [],
   "execution_count": 27
  },
  {
   "metadata": {
    "ExecuteTime": {
     "end_time": "2025-03-18T17:38:53.808905Z",
     "start_time": "2025-03-18T17:38:53.805964Z"
    }
   },
   "cell_type": "code",
   "source": [
    "### without Kneser-Ney Smoothing\n",
    "# # Calculate bigram probabilities\n",
    "# bigram_probabilities = {}\n",
    "# for bigram, count in bigram_freq.items():\n",
    "#     w1 = bigram[0]\n",
    "#     w2 = bigram[1]\n",
    "#     bigram_probabilities[(w1, w2)] = count / unigram_freq[w1]"
   ],
   "id": "c003bc8bc2b07ec1",
   "outputs": [],
   "execution_count": 28
  },
  {
   "metadata": {
    "ExecuteTime": {
     "end_time": "2025-03-18T17:38:54.343776Z",
     "start_time": "2025-03-18T17:38:54.341888Z"
    }
   },
   "cell_type": "code",
   "source": [
    "### without Kneser-Ney Smoothing\n",
    "# # Function to calculate sentence probability\n",
    "# def calculate_sentence_probability(sentence):\n",
    "#     tokens = nltk.word_tokenize(sentence.lower())\n",
    "#     prob = 0\n",
    "#     for i in range(1, len(tokens)):\n",
    "#         w1 = tokens[i - 1]\n",
    "#         w2 = tokens[i]\n",
    "#         prob *= bigram_probabilities.get((w1, w2), 0)  # If bigram doesn't exist, set probability to 0\n",
    "#     return prob"
   ],
   "id": "a43c9d7ee2e29578",
   "outputs": [],
   "execution_count": 29
  },
  {
   "metadata": {
    "ExecuteTime": {
     "end_time": "2025-03-18T17:38:55.164538Z",
     "start_time": "2025-03-18T17:38:55.161978Z"
    }
   },
   "cell_type": "code",
   "source": [
    "# Example sentences\n",
    "sentence_1 = \"show me all the Arabic food restaurants\"\n",
    "sentence_2 = \"I am learning mathematics\""
   ],
   "id": "e54542a50341b87d",
   "outputs": [],
   "execution_count": 30
  },
  {
   "metadata": {
    "ExecuteTime": {
     "end_time": "2025-03-18T17:38:56.084115Z",
     "start_time": "2025-03-18T17:38:56.078575Z"
    }
   },
   "cell_type": "code",
   "source": [
    "# Calculate sentence probabilities\n",
    "prob_1 = calculate_sentence_probability(sentence_1)\n",
    "prob_2 = calculate_sentence_probability(sentence_2)\n",
    "\n",
    "print(f\"Probability of Sentence 1: {prob_1}\")\n",
    "print(f\"Probability of Sentence 2: {prob_2}\")"
   ],
   "id": "54d27c67afab1e0f",
   "outputs": [
    {
     "name": "stdout",
     "output_type": "stream",
     "text": [
      "Probability of Sentence 1: 1.0000000000000001e-60\n",
      "Probability of Sentence 2: 1e-30\n"
     ]
    }
   ],
   "execution_count": 31
  },
  {
   "metadata": {},
   "cell_type": "code",
   "outputs": [],
   "execution_count": null,
   "source": "",
   "id": "1a304a540d7250da"
  }
 ],
 "metadata": {
  "kernelspec": {
   "display_name": "Python 3",
   "language": "python",
   "name": "python3"
  },
  "language_info": {
   "codemirror_mode": {
    "name": "ipython",
    "version": 2
   },
   "file_extension": ".py",
   "mimetype": "text/x-python",
   "name": "python",
   "nbconvert_exporter": "python",
   "pygments_lexer": "ipython2",
   "version": "2.7.6"
  }
 },
 "nbformat": 4,
 "nbformat_minor": 5
}
