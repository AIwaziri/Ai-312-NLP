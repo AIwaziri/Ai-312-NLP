{
 "cells": [
  {
   "cell_type": "code",
   "id": "initial_id",
   "metadata": {
    "collapsed": true,
    "ExecuteTime": {
     "end_time": "2025-03-06T11:45:21.985357Z",
     "start_time": "2025-03-06T11:45:19.290337Z"
    }
   },
   "source": [
    "import nltk\n",
    "from nltk.util import bigrams\n",
    "from collections import Counter"
   ],
   "outputs": [],
   "execution_count": 1
  },
  {
   "metadata": {
    "ExecuteTime": {
     "end_time": "2025-03-06T11:50:52.928337Z",
     "start_time": "2025-03-06T11:50:52.920700Z"
    }
   },
   "cell_type": "code",
   "source": [
    "#  a string from the BeRP dataset\n",
    "text = './transcript.txt' # Path to the BeRP dataset"
   ],
   "id": "94645f62842a7108",
   "outputs": [],
   "execution_count": 2
  },
  {
   "metadata": {
    "ExecuteTime": {
     "end_time": "2025-03-06T11:50:55.492114Z",
     "start_time": "2025-03-06T11:50:55.477022Z"
    }
   },
   "cell_type": "code",
   "source": [
    "# Tokenize the text\n",
    "tokens = nltk.word_tokenize(text.lower())  # Lowercase to maintain consistency"
   ],
   "id": "d22049cc2a08de0c",
   "outputs": [],
   "execution_count": 3
  },
  {
   "metadata": {
    "ExecuteTime": {
     "end_time": "2025-03-06T11:50:57.146760Z",
     "start_time": "2025-03-06T11:50:57.144835Z"
    }
   },
   "cell_type": "code",
   "source": [
    "# Generate bigrams\n",
    "bi_grams = list(bigrams(tokens))"
   ],
   "id": "917d4de54b97bbf2",
   "outputs": [],
   "execution_count": 4
  },
  {
   "metadata": {
    "ExecuteTime": {
     "end_time": "2025-03-06T11:50:59.001279Z",
     "start_time": "2025-03-06T11:50:58.999596Z"
    }
   },
   "cell_type": "code",
   "source": [
    "# Calculate frequency distributions for unigrams and bigrams\n",
    "unigram_freq = Counter(tokens)\n",
    "bigram_freq = Counter(bi_grams)"
   ],
   "id": "fb70b6361568ad34",
   "outputs": [],
   "execution_count": 5
  },
  {
   "metadata": {
    "ExecuteTime": {
     "end_time": "2025-03-06T11:51:00.710664Z",
     "start_time": "2025-03-06T11:51:00.708514Z"
    }
   },
   "cell_type": "code",
   "source": [
    "# Calculate bigram probabilities\n",
    "bigram_probabilities = {}\n",
    "for bigram, count in bigram_freq.items():\n",
    "    w1 = bigram[0]\n",
    "    w2 = bigram[1]\n",
    "    bigram_probabilities[(w1, w2)] = count / unigram_freq[w1]"
   ],
   "id": "c003bc8bc2b07ec1",
   "outputs": [],
   "execution_count": 6
  },
  {
   "metadata": {
    "ExecuteTime": {
     "end_time": "2025-03-06T11:51:04.009561Z",
     "start_time": "2025-03-06T11:51:04.007249Z"
    }
   },
   "cell_type": "code",
   "source": [
    "# Function to calculate sentence probability\n",
    "def calculate_sentence_probability(sentence):\n",
    "    tokens = nltk.word_tokenize(sentence.lower())\n",
    "    prob = 1.0\n",
    "    for i in range(1, len(tokens)):\n",
    "        w1 = tokens[i - 1]\n",
    "        w2 = tokens[i]\n",
    "        prob *= bigram_probabilities.get((w1, w2), 0)  # If bigram doesn't exist, set probability to 0\n",
    "    return prob"
   ],
   "id": "a43c9d7ee2e29578",
   "outputs": [],
   "execution_count": 7
  },
  {
   "metadata": {
    "ExecuteTime": {
     "end_time": "2025-03-06T11:51:06.508474Z",
     "start_time": "2025-03-06T11:51:06.506056Z"
    }
   },
   "cell_type": "code",
   "source": [
    "# Example sentences\n",
    "sentence_1 = \"show me all the Arabic food restaurants\"\n",
    "sentence_2 = \"I am learning mathematics\""
   ],
   "id": "e54542a50341b87d",
   "outputs": [],
   "execution_count": 8
  },
  {
   "metadata": {
    "ExecuteTime": {
     "end_time": "2025-03-06T11:51:11.012953Z",
     "start_time": "2025-03-06T11:51:11.009727Z"
    }
   },
   "cell_type": "code",
   "source": [
    "# Calculate sentence probabilities\n",
    "prob_1 = calculate_sentence_probability(sentence_1)\n",
    "prob_2 = calculate_sentence_probability(sentence_2)\n",
    "\n",
    "print(f\"Probability of Sentence 1: {prob_1}\")\n",
    "print(f\"Probability of Sentence 2: {prob_2}\")"
   ],
   "id": "54d27c67afab1e0f",
   "outputs": [
    {
     "name": "stdout",
     "output_type": "stream",
     "text": [
      "Probability of Sentence 1: 0.0\n",
      "Probability of Sentence 2: 0.0\n"
     ]
    }
   ],
   "execution_count": 9
  },
  {
   "metadata": {},
   "cell_type": "code",
   "outputs": [],
   "execution_count": null,
   "source": "",
   "id": "1a304a540d7250da"
  }
 ],
 "metadata": {
  "kernelspec": {
   "display_name": "Python 3",
   "language": "python",
   "name": "python3"
  },
  "language_info": {
   "codemirror_mode": {
    "name": "ipython",
    "version": 2
   },
   "file_extension": ".py",
   "mimetype": "text/x-python",
   "name": "python",
   "nbconvert_exporter": "python",
   "pygments_lexer": "ipython2",
   "version": "2.7.6"
  }
 },
 "nbformat": 4,
 "nbformat_minor": 5
}
