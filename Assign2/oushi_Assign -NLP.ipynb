{
 "cells": [
  {
   "cell_type": "code",
   "id": "initial_id",
   "metadata": {
    "collapsed": true,
    "ExecuteTime": {
     "end_time": "2025-03-15T18:55:52.306737Z",
     "start_time": "2025-03-15T18:55:52.295053Z"
    }
   },
   "source": [
    "import re\n",
    "\n",
    "\n",
    "def soundex(name: str) -> str:\n",
    "    # Step 1: Keep the first letter and convert the rest to lowercase\n",
    "    first_letter = name[0].upper()\n",
    "    name = name.lower()\n",
    "\n",
    "    # Step 2: Remove non-initial vowels and certain consonants\n",
    "    name = re.sub(r'[aeiouwhy]', '', name[1:])\n",
    "\n",
    "    # Step 3: Replace letters with corresponding numbers\n",
    "    mappings = {\n",
    "        'b': '1', 'f': '1', 'p': '1', 'v': '1',\n",
    "        'c': '2', 'g': '2', 'j': '2', 'k': '2', 'q': '2', 's': '2', 'x': '2', 'z': '2',\n",
    "        'd': '3', 't': '3',\n",
    "        'l': '4',\n",
    "        'm': '5', 'n': '5',\n",
    "        'r': '6'\n",
    "    }\n",
    "\n",
    "    encoded = ''.join(mappings.get(char, '') for char in name)\n",
    "\n",
    "    # Step 4: Remove consecutive duplicate numbers\n",
    "    encoded = re.sub(r'(\\d)\\1+', r'\\1', encoded)\n",
    "\n",
    "    # Step 5: Format to Letter Digit Digit Digit\n",
    "    soundex_code = (first_letter + encoded + \"000\")[:4]\n",
    "\n",
    "    return soundex_code"
   ],
   "outputs": [],
   "execution_count": 2
  },
  {
   "metadata": {
    "ExecuteTime": {
     "end_time": "2025-03-15T18:55:54.974994Z",
     "start_time": "2025-03-15T18:55:54.896813Z"
    }
   },
   "cell_type": "code",
   "source": [
    "if __name__ == \"__main__\":\n",
    "    names = [\"Sudan\", \"Uganda\", \"Rwanda\", \"Burundi\", \"Tanzania\", \"Malawi\", \"Zambia\", \"Zimbabwe\", \"Mozambique\", \"Madagascar\", \"Comoros\", \"Seychelles\", \"Mauritius\", \"Mauritania\", \"Cape\", \"Verde\", \"Guinea-Bissau\", \"Gambia\", \"Senegal\", \"Guinea\", \"Sierra\", \"Leone\", \"Liberia\", \"Ivory\", \"Coast\", \"Burkina\", \"Faso\", \"Benin\", \"Togo\", \"Chad\", \"Niger\", \"Mali\", \"Senegal\", \"Cameroon\", \"Ghana\", \"Kenya\", \"Ethiopia\", \"Sudan\", \"Libya\", \"Tunisia\", \"Algeria\", \"Morocco\", \"Egypt\", \"South\", \"Africa\", \"Indonesia\", \"Bangladesh\", \"Pakistan\", \"India\", \"Australia\", \"Japan\", \"China\", \"Russia\", \"Argentina\", \"Brazil\", \"Portugal\", \"Spain\", \"Italy\", \"France\", \"Germany\", \"Canada\", \"America\", \"States\", \"United\", \"Columbia\"]\n",
    "    for name in names:\n",
    "        print(f\"{name}: {soundex(name)}\")"
   ],
   "id": "22918bf967f8ffd0",
   "outputs": [
    {
     "name": "stdout",
     "output_type": "stream",
     "text": [
      "Sudan: S350\n",
      "Uganda: U253\n",
      "Rwanda: R530\n",
      "Burundi: B653\n",
      "Tanzania: T525\n",
      "Malawi: M400\n",
      "Zambia: Z510\n",
      "Zimbabwe: Z510\n",
      "Mozambique: M251\n",
      "Madagascar: M326\n",
      "Comoros: C562\n",
      "Seychelles: S242\n",
      "Mauritius: M632\n",
      "Mauritania: M635\n",
      "Cape: C100\n",
      "Verde: V630\n",
      "Guinea-Bissau: G512\n",
      "Gambia: G510\n",
      "Senegal: S524\n",
      "Guinea: G500\n",
      "Sierra: S600\n",
      "Leone: L500\n",
      "Liberia: L160\n",
      "Ivory: I160\n",
      "Coast: C230\n",
      "Burkina: B625\n",
      "Faso: F200\n",
      "Benin: B500\n",
      "Togo: T200\n",
      "Chad: C300\n",
      "Niger: N260\n",
      "Mali: M400\n",
      "Senegal: S524\n",
      "Cameroon: C565\n",
      "Ghana: G500\n",
      "Kenya: K500\n",
      "Ethiopia: E310\n",
      "Sudan: S350\n",
      "Libya: L100\n",
      "Tunisia: T520\n",
      "Algeria: A426\n",
      "Morocco: M620\n",
      "Egypt: E213\n",
      "South: S300\n",
      "Africa: A162\n",
      "Indonesia: I535\n",
      "Bangladesh: B524\n",
      "Pakistan: P235\n",
      "India: I530\n",
      "Australia: A236\n",
      "Japan: J150\n",
      "China: C500\n",
      "Russia: R200\n",
      "Argentina: A625\n",
      "Brazil: B624\n",
      "Portugal: P632\n",
      "Spain: S150\n",
      "Italy: I340\n",
      "France: F652\n",
      "Germany: G650\n",
      "Canada: C530\n",
      "America: A562\n",
      "States: S320\n",
      "United: U530\n",
      "Columbia: C451\n"
     ]
    }
   ],
   "execution_count": 3
  },
  {
   "metadata": {},
   "cell_type": "code",
   "outputs": [],
   "execution_count": null,
   "source": "",
   "id": "3177124fcfd23364"
  }
 ],
 "metadata": {
  "kernelspec": {
   "display_name": "Python 3",
   "language": "python",
   "name": "python3"
  },
  "language_info": {
   "codemirror_mode": {
    "name": "ipython",
    "version": 2
   },
   "file_extension": ".py",
   "mimetype": "text/x-python",
   "name": "python",
   "nbconvert_exporter": "python",
   "pygments_lexer": "ipython2",
   "version": "2.7.6"
  }
 },
 "nbformat": 4,
 "nbformat_minor": 5
}
