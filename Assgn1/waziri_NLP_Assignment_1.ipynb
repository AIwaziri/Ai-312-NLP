{
 "cells": [
  {
   "metadata": {
    "ExecuteTime": {
     "end_time": "2025-02-25T16:17:36.400253Z",
     "start_time": "2025-02-25T16:17:28.092025Z"
    }
   },
   "cell_type": "code",
   "source": [
    "import nltk\n",
    "from nltk.stem import PorterStemmer, WordNetLemmatizer\n",
    "from nltk.tokenize import word_tokenize\n",
    "from nltk.corpus import wordnet\n",
    "\n",
    "# Download necessary NLTK resources\n",
    "nltk.download('punkt')\n",
    "nltk.download('wordnet')\n",
    "nltk.download('omw-1.4')\n",
    "nltk.download('averaged_perceptron_tagger')\n",
    "\n",
    "\n"
   ],
   "id": "f2aa733db810cd2d",
   "outputs": [
    {
     "name": "stderr",
     "output_type": "stream",
     "text": [
      "[nltk_data] Downloading package punkt to /Users/aiwaziri/nltk_data...\n",
      "[nltk_data]   Package punkt is already up-to-date!\n",
      "[nltk_data] Downloading package wordnet to\n",
      "[nltk_data]     /Users/aiwaziri/nltk_data...\n",
      "[nltk_data]   Package wordnet is already up-to-date!\n",
      "[nltk_data] Downloading package omw-1.4 to\n",
      "[nltk_data]     /Users/aiwaziri/nltk_data...\n",
      "[nltk_data]   Package omw-1.4 is already up-to-date!\n",
      "[nltk_data] Downloading package averaged_perceptron_tagger to\n",
      "[nltk_data]     /Users/aiwaziri/nltk_data...\n",
      "[nltk_data]   Package averaged_perceptron_tagger is already up-to-\n",
      "[nltk_data]       date!\n"
     ]
    },
    {
     "data": {
      "text/plain": [
       "True"
      ]
     },
     "execution_count": 1,
     "metadata": {},
     "output_type": "execute_result"
    }
   ],
   "execution_count": 1
  },
  {
   "metadata": {
    "ExecuteTime": {
     "end_time": "2025-02-25T16:18:31.267579Z",
     "start_time": "2025-02-25T16:18:31.264281Z"
    }
   },
   "cell_type": "code",
   "source": [
    "# Initialize stemmer and lemmatizer\n",
    "stemmer = PorterStemmer()\n",
    "lemmatizer = WordNetLemmatizer()\n",
    "\n",
    "def get_wordnet_pos(word):\n",
    "    tag = nltk.pos_tag([word])[0][1][0].upper()\n",
    "    tag_dict = {\"J\": wordnet.ADJ, \"N\": wordnet.NOUN, \"V\": wordnet.VERB, \"R\": wordnet.ADV}\n",
    "    return tag_dict.get(tag, wordnet.NOUN)  # Default to NOUN\n",
    "\n"
   ],
   "id": "ebf7eea9ff0ec9b8",
   "outputs": [],
   "execution_count": 2
  },
  {
   "metadata": {
    "ExecuteTime": {
     "end_time": "2025-02-25T16:18:33.763021Z",
     "start_time": "2025-02-25T16:18:33.743469Z"
    }
   },
   "cell_type": "code",
   "source": [
    "# Read text from a file\n",
    "file_path = 'wiki_mountain_def.txt'\n",
    "\n",
    "with open(file_path, 'r', encoding='utf-8') as file:\n",
    "    text = file.read()\n",
    "\n",
    "# Tokenize the text\n",
    "tokens = word_tokenize(text)\n"
   ],
   "id": "5b2691dfef0bb6a0",
   "outputs": [],
   "execution_count": 3
  },
  {
   "metadata": {
    "ExecuteTime": {
     "end_time": "2025-02-25T16:18:37.296087Z",
     "start_time": "2025-02-25T16:18:37.289924Z"
    }
   },
   "cell_type": "code",
   "source": [
    "# Stemming\n",
    "stemmed_words = [stemmer.stem(word) for word in tokens]\n",
    "print(\"Stemmed Words:\", stemmed_words)\n",
    "\n"
   ],
   "id": "1a7076ca5955fc0a",
   "outputs": [
    {
     "name": "stdout",
     "output_type": "stream",
     "text": [
      "Stemmed Words: ['there', 'is', 'no', 'univers', 'accept', 'definit', 'of', 'a', 'mountain', '.', 'elev', ',', 'volum', ',', 'relief', ',', 'steep', ',', 'space', 'and', 'continu', 'have', 'been', 'use', 'as', 'criteria', 'for', 'defin', 'a', 'mountain', '.', '[', '4', ']', 'in', 'the', 'oxford', 'english', 'dictionari', 'a', 'mountain', 'is', 'defin', 'as', '``', 'a', 'natur', 'elev', 'of', 'the', 'earth', 'surfac', 'rise', 'more', 'or', 'less', 'abruptli', 'from', 'the', 'surround', 'level', 'and', 'attain', 'an', 'altitud', 'which', ',', 'rel', 'to', 'the', 'adjac', 'elev', ',', 'is', 'impress', 'or', 'notabl', '.', '``', '[', '4', ']', 'whether', 'a', 'landform', 'is', 'call', 'a', 'mountain', 'may', 'depend', 'on', 'local', 'usag', '.', 'john', 'whittow', \"'s\", 'dictionari', 'of', 'physic', 'geographi', '[', '5', ']', 'state', '``', 'some', 'author', 'regard', 'emin', 'abov', '600', 'metr', '(', '1,969', 'ft', ')', 'as', 'mountain', ',', 'those', 'below', 'be', 'refer', 'to', 'as', 'hill', '.', \"''\", 'in', 'the', 'unit', 'kingdom', 'and', 'the', 'republ', 'of', 'ireland', ',', 'a', 'mountain', 'is', 'usual', 'defin', 'as', 'ani', 'summit', 'at', 'least', '2,000', 'feet', '(', '610', 'm', ')', 'high', ',', '[', '6', ']', 'which', 'accord', 'with', 'the', 'offici', 'uk', 'govern', \"'s\", 'definit', 'that', 'a', 'mountain', ',', 'for', 'the', 'purpos', 'of', 'access', ',', 'is', 'a', 'summit', 'of', '2,000', 'feet', '(', '610', 'm', ')', 'or', 'higher', '.', '[', '7', ']', 'in', 'addit', ',', 'some', 'definit', 'also', 'includ', 'a', 'topograph', 'promin', 'requir', ',', 'such', 'as', 'that', 'the', 'mountain', 'rise', '300', 'metr', '(', '984', 'ft', ')', 'abov', 'the', 'surround', 'terrain', '.', '[', '1', ']', 'at', 'one', 'time', 'the', 'us', 'board', 'on', 'geograph', 'name', 'defin', 'a', 'mountain', 'as', 'be', '1,000', 'feet', '(', '305', 'm', ')', 'or', 'taller', ',', '[', '8', ']', 'but', 'ha', 'abandon', 'the', 'definit', 'sinc', 'the', '1970', '.', 'ani', 'similar', 'landform', 'lower', 'than', 'thi', 'height', 'wa', 'consid', 'a', 'hill', '.', 'howev', ',', 'today', ',', 'the', 'us', 'geolog', 'survey', 'conclud', 'that', 'these', 'term', 'do', 'not', 'have', 'technic', 'definit', 'in', 'the', 'us', '.', '[', '9', ']']\n"
     ]
    }
   ],
   "execution_count": 4
  },
  {
   "metadata": {
    "ExecuteTime": {
     "end_time": "2025-02-25T16:19:03.992451Z",
     "start_time": "2025-02-25T16:19:03.912996Z"
    }
   },
   "cell_type": "code",
   "source": [
    "# Lemmatization\n",
    "lemmatized_words = [lemmatizer.lemmatize(word, get_wordnet_pos(word)) for word in tokens]\n",
    "print(\"Lemmatized Words:\", lemmatized_words)"
   ],
   "id": "fbb9be75e43e145a",
   "outputs": [
    {
     "name": "stdout",
     "output_type": "stream",
     "text": [
      "Lemmatized Words: ['There', 'be', 'no', 'universally', 'accepted', 'definition', 'of', 'a', 'mountain', '.', 'Elevation', ',', 'volume', ',', 'relief', ',', 'steepness', ',', 'space', 'and', 'continuity', 'have', 'be', 'use', 'a', 'criterion', 'for', 'define', 'a', 'mountain', '.', '[', '4', ']', 'In', 'the', 'Oxford', 'English', 'Dictionary', 'a', 'mountain', 'be', 'define', 'a', '``', 'a', 'natural', 'elevation', 'of', 'the', 'earth', 'surface', 'rise', 'more', 'or', 'less', 'abruptly', 'from', 'the', 'surround', 'level', 'and', 'attain', 'an', 'altitude', 'which', ',', 'relatively', 'to', 'the', 'adjacent', 'elevation', ',', 'be', 'impressive', 'or', 'notable', '.', '``', '[', '4', ']', 'Whether', 'a', 'landform', 'be', 'call', 'a', 'mountain', 'may', 'depend', 'on', 'local', 'usage', '.', 'John', 'Whittow', \"'s\", 'Dictionary', 'of', 'Physical', 'Geography', '[', '5', ']', 'state', '``', 'Some', 'authority', 'regard', 'eminence', 'above', '600', 'metre', '(', '1,969', 'ft', ')', 'a', 'mountain', ',', 'those', 'below', 'be', 'refer', 'to', 'a', 'hill', '.', \"''\", 'In', 'the', 'United', 'Kingdom', 'and', 'the', 'Republic', 'of', 'Ireland', ',', 'a', 'mountain', 'be', 'usually', 'define', 'a', 'any', 'summit', 'at', 'least', '2,000', 'foot', '(', '610', 'm', ')', 'high', ',', '[', '6', ']', 'which', 'accord', 'with', 'the', 'official', 'UK', 'government', \"'s\", 'definition', 'that', 'a', 'mountain', ',', 'for', 'the', 'purpose', 'of', 'access', ',', 'be', 'a', 'summit', 'of', '2,000', 'foot', '(', '610', 'm', ')', 'or', 'high', '.', '[', '7', ']', 'In', 'addition', ',', 'some', 'definition', 'also', 'include', 'a', 'topographical', 'prominence', 'requirement', ',', 'such', 'a', 'that', 'the', 'mountain', 'rise', '300', 'metre', '(', '984', 'ft', ')', 'above', 'the', 'surround', 'terrain', '.', '[', '1', ']', 'At', 'one', 'time', 'the', 'US', 'Board', 'on', 'Geographic', 'Names', 'define', 'a', 'mountain', 'a', 'be', '1,000', 'foot', '(', '305', 'm', ')', 'or', 'taller', ',', '[', '8', ']', 'but', 'have', 'abandon', 'the', 'definition', 'since', 'the', '1970s', '.', 'Any', 'similar', 'landform', 'low', 'than', 'this', 'height', 'be', 'consider', 'a', 'hill', '.', 'However', ',', 'today', ',', 'the', 'US', 'Geological', 'Survey', 'concludes', 'that', 'these', 'term', 'do', 'not', 'have', 'technical', 'definition', 'in', 'the', 'US', '.', '[', '9', ']']\n"
     ]
    }
   ],
   "execution_count": 5
  },
  {
   "metadata": {},
   "cell_type": "code",
   "outputs": [],
   "execution_count": null,
   "source": "",
   "id": "22bb7b2eab7d6d01"
  }
 ],
 "metadata": {
  "kernelspec": {
   "display_name": "Python 3",
   "language": "python",
   "name": "python3"
  },
  "language_info": {
   "codemirror_mode": {
    "name": "ipython",
    "version": 2
   },
   "file_extension": ".py",
   "mimetype": "text/x-python",
   "name": "python",
   "nbconvert_exporter": "python",
   "pygments_lexer": "ipython2",
   "version": "2.7.6"
  }
 },
 "nbformat": 4,
 "nbformat_minor": 5
}
