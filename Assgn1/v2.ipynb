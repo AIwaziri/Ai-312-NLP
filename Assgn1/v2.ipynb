{
 "cells": [
  {
   "metadata": {
    "ExecuteTime": {
     "end_time": "2025-02-25T16:33:59.298076Z",
     "start_time": "2025-02-25T16:33:59.293622Z"
    }
   },
   "cell_type": "code",
   "source": [
    "import spacy\n",
    "spacy.info()"
   ],
   "id": "2f84e044bab41a50",
   "outputs": [
    {
     "data": {
      "text/plain": [
       "{'spacy_version': '3.8.4',\n",
       " 'location': '/Library/Frameworks/Python.framework/Versions/3.12/lib/python3.12/site-packages/spacy',\n",
       " 'platform': 'macOS-15.4-arm64-arm-64bit',\n",
       " 'python_version': '3.12.0',\n",
       " 'pipelines': {}}"
      ]
     },
     "execution_count": 11,
     "metadata": {},
     "output_type": "execute_result"
    }
   ],
   "execution_count": 11
  },
  {
   "metadata": {
    "collapsed": true,
    "ExecuteTime": {
     "end_time": "2025-02-25T16:40:51.550606Z",
     "start_time": "2025-02-25T16:40:51.507946Z"
    }
   },
   "cell_type": "code",
   "source": [
    "import spacy\n",
    "\n",
    "nlp = spacy.load('en_core_web_sm')\n",
    "\n",
    "# Read the text from the file\n",
    "file_path = 'wiki_mountain_def.txt'\n",
    "\n",
    "with open(file_path, 'r', encoding='utf-8') as file:\n",
    "    text = file.read()\n",
    "\n",
    "# Process the text with SpaCy\n",
    "doc = nlp(text)\n",
    "\n",
    "# Lemmatize each word and count changes\n",
    "original_words = [token.text for token in doc]\n",
    "lemmatized_words = [token.lemma_ for token in doc]\n",
    "\n",
    "# Count how many words changed due to lemmatization\n",
    "changed_words = sum(1 for orig, lemma in zip(original_words, lemmatized_words) if orig != lemma)\n",
    "\n",
    "# Display results\n",
    "print(\"Original Words:\", original_words)\n",
    "print(\"Lemmatized Words:\", lemmatized_words)\n",
    "print(f\"Total words changed due to lemmatization: {changed_words}\")"
   ],
   "id": "initial_id",
   "outputs": [
    {
     "ename": "OSError",
     "evalue": "[E050] Can't find model 'en_core_web_sm'. It doesn't seem to be a Python package or a valid path to a data directory.",
     "output_type": "error",
     "traceback": [
      "\u001B[0;31m---------------------------------------------------------------------------\u001B[0m",
      "\u001B[0;31mOSError\u001B[0m                                   Traceback (most recent call last)",
      "Cell \u001B[0;32mIn[12], line 3\u001B[0m\n\u001B[1;32m      1\u001B[0m \u001B[38;5;28;01mimport\u001B[39;00m \u001B[38;5;21;01mspacy\u001B[39;00m\n\u001B[0;32m----> 3\u001B[0m nlp \u001B[38;5;241m=\u001B[39m \u001B[43mspacy\u001B[49m\u001B[38;5;241;43m.\u001B[39;49m\u001B[43mload\u001B[49m\u001B[43m(\u001B[49m\u001B[38;5;124;43m'\u001B[39;49m\u001B[38;5;124;43men_core_web_sm\u001B[39;49m\u001B[38;5;124;43m'\u001B[39;49m\u001B[43m)\u001B[49m\n\u001B[1;32m      5\u001B[0m \u001B[38;5;66;03m# Read the text from the file\u001B[39;00m\n\u001B[1;32m      6\u001B[0m file_path \u001B[38;5;241m=\u001B[39m \u001B[38;5;124m'\u001B[39m\u001B[38;5;124mwiki_mountain_def.txt\u001B[39m\u001B[38;5;124m'\u001B[39m\n",
      "File \u001B[0;32m/Library/Frameworks/Python.framework/Versions/3.12/lib/python3.12/site-packages/spacy/__init__.py:51\u001B[0m, in \u001B[0;36mload\u001B[0;34m(name, vocab, disable, enable, exclude, config)\u001B[0m\n\u001B[1;32m     27\u001B[0m \u001B[38;5;28;01mdef\u001B[39;00m \u001B[38;5;21mload\u001B[39m(\n\u001B[1;32m     28\u001B[0m     name: Union[\u001B[38;5;28mstr\u001B[39m, Path],\n\u001B[1;32m     29\u001B[0m     \u001B[38;5;241m*\u001B[39m,\n\u001B[0;32m   (...)\u001B[0m\n\u001B[1;32m     34\u001B[0m     config: Union[Dict[\u001B[38;5;28mstr\u001B[39m, Any], Config] \u001B[38;5;241m=\u001B[39m util\u001B[38;5;241m.\u001B[39mSimpleFrozenDict(),\n\u001B[1;32m     35\u001B[0m ) \u001B[38;5;241m-\u001B[39m\u001B[38;5;241m>\u001B[39m Language:\n\u001B[1;32m     36\u001B[0m \u001B[38;5;250m    \u001B[39m\u001B[38;5;124;03m\"\"\"Load a spaCy model from an installed package or a local path.\u001B[39;00m\n\u001B[1;32m     37\u001B[0m \n\u001B[1;32m     38\u001B[0m \u001B[38;5;124;03m    name (str): Package name or model path.\u001B[39;00m\n\u001B[0;32m   (...)\u001B[0m\n\u001B[1;32m     49\u001B[0m \u001B[38;5;124;03m    RETURNS (Language): The loaded nlp object.\u001B[39;00m\n\u001B[1;32m     50\u001B[0m \u001B[38;5;124;03m    \"\"\"\u001B[39;00m\n\u001B[0;32m---> 51\u001B[0m     \u001B[38;5;28;01mreturn\u001B[39;00m \u001B[43mutil\u001B[49m\u001B[38;5;241;43m.\u001B[39;49m\u001B[43mload_model\u001B[49m\u001B[43m(\u001B[49m\n\u001B[1;32m     52\u001B[0m \u001B[43m        \u001B[49m\u001B[43mname\u001B[49m\u001B[43m,\u001B[49m\n\u001B[1;32m     53\u001B[0m \u001B[43m        \u001B[49m\u001B[43mvocab\u001B[49m\u001B[38;5;241;43m=\u001B[39;49m\u001B[43mvocab\u001B[49m\u001B[43m,\u001B[49m\n\u001B[1;32m     54\u001B[0m \u001B[43m        \u001B[49m\u001B[43mdisable\u001B[49m\u001B[38;5;241;43m=\u001B[39;49m\u001B[43mdisable\u001B[49m\u001B[43m,\u001B[49m\n\u001B[1;32m     55\u001B[0m \u001B[43m        \u001B[49m\u001B[43menable\u001B[49m\u001B[38;5;241;43m=\u001B[39;49m\u001B[43menable\u001B[49m\u001B[43m,\u001B[49m\n\u001B[1;32m     56\u001B[0m \u001B[43m        \u001B[49m\u001B[43mexclude\u001B[49m\u001B[38;5;241;43m=\u001B[39;49m\u001B[43mexclude\u001B[49m\u001B[43m,\u001B[49m\n\u001B[1;32m     57\u001B[0m \u001B[43m        \u001B[49m\u001B[43mconfig\u001B[49m\u001B[38;5;241;43m=\u001B[39;49m\u001B[43mconfig\u001B[49m\u001B[43m,\u001B[49m\n\u001B[1;32m     58\u001B[0m \u001B[43m    \u001B[49m\u001B[43m)\u001B[49m\n",
      "File \u001B[0;32m/Library/Frameworks/Python.framework/Versions/3.12/lib/python3.12/site-packages/spacy/util.py:472\u001B[0m, in \u001B[0;36mload_model\u001B[0;34m(name, vocab, disable, enable, exclude, config)\u001B[0m\n\u001B[1;32m    470\u001B[0m \u001B[38;5;28;01mif\u001B[39;00m name \u001B[38;5;129;01min\u001B[39;00m OLD_MODEL_SHORTCUTS:\n\u001B[1;32m    471\u001B[0m     \u001B[38;5;28;01mraise\u001B[39;00m \u001B[38;5;167;01mIOError\u001B[39;00m(Errors\u001B[38;5;241m.\u001B[39mE941\u001B[38;5;241m.\u001B[39mformat(name\u001B[38;5;241m=\u001B[39mname, full\u001B[38;5;241m=\u001B[39mOLD_MODEL_SHORTCUTS[name]))  \u001B[38;5;66;03m# type: ignore[index]\u001B[39;00m\n\u001B[0;32m--> 472\u001B[0m \u001B[38;5;28;01mraise\u001B[39;00m \u001B[38;5;167;01mIOError\u001B[39;00m(Errors\u001B[38;5;241m.\u001B[39mE050\u001B[38;5;241m.\u001B[39mformat(name\u001B[38;5;241m=\u001B[39mname))\n",
      "\u001B[0;31mOSError\u001B[0m: [E050] Can't find model 'en_core_web_sm'. It doesn't seem to be a Python package or a valid path to a data directory."
     ]
    }
   ],
   "execution_count": 12
  },
  {
   "metadata": {
    "ExecuteTime": {
     "end_time": "2025-02-25T16:31:40.024380Z",
     "start_time": "2025-02-25T16:31:40.019367Z"
    }
   },
   "cell_type": "code",
   "source": [
    "import re\n",
    "file_path = 'wiki_mountain_def.txt'\n",
    "with open(file_path, 'r', encoding='utf-8') as file:\n",
    "    text = file.read()\n",
    "\n",
    "# Tokenize the text by splitting on whitespace\n",
    "words = text.split()\n",
    "\n",
    "# Function to apply the Porter Stemming rules\n",
    "def porter_stem(word):\n",
    "    # Apply the rules in the specified order\n",
    "    if re.search(r'sses$', word):\n",
    "        return re.sub(r'sses$', 'ss', word)\n",
    "    elif re.search(r'ies$', word):\n",
    "        return re.sub(r'ies$', 'i', word)\n",
    "    elif re.search(r'ss$', word):\n",
    "        return word  # No change for 'ss' ending\n",
    "    elif re.search(r's$', word):\n",
    "        return re.sub(r's$', '', word)\n",
    "    else:\n",
    "        return word  # Return the word unchanged if no rule applies\n",
    "\n",
    "# Apply stemming and count changes\n",
    "stemmed_words = [porter_stem(word) for word in words]\n",
    "changed_words = sum(1 for orig, stemmed in zip(words, stemmed_words) if orig != stemmed)\n",
    "\n",
    "# Display results\n",
    "print(\"Original Words:\", words)\n",
    "print(\"Stemmed Words:\", stemmed_words)\n",
    "print(f\"Total words changed due to stemming: {changed_words}\")"
   ],
   "id": "8d807cc1a943fd6b",
   "outputs": [
    {
     "name": "stdout",
     "output_type": "stream",
     "text": [
      "Original Words: ['There', 'is', 'no', 'universally', 'accepted', 'definition', 'of', 'a', 'mountain.', 'Elevation,', 'volume,', 'relief,', 'steepness,', 'spacing', 'and', 'continuity', 'have', 'been', 'used', 'as', 'criteria', 'for', 'defining', 'a', 'mountain.[4]', 'In', 'the', 'Oxford', 'English', 'Dictionary', 'a', 'mountain', 'is', 'defined', 'as', '\"a', 'natural', 'elevation', 'of', 'the', 'earth', 'surface', 'rising', 'more', 'or', 'less', 'abruptly', 'from', 'the', 'surrounding', 'level', 'and', 'attaining', 'an', 'altitude', 'which,', 'relatively', 'to', 'the', 'adjacent', 'elevation,', 'is', 'impressive', 'or', 'notable.\"[4]', 'Whether', 'a', 'landform', 'is', 'called', 'a', 'mountain', 'may', 'depend', 'on', 'local', 'usage.', 'John', \"Whittow's\", 'Dictionary', 'of', 'Physical', 'Geography[5]', 'states', '\"Some', 'authorities', 'regard', 'eminences', 'above', '600', 'metres', '(1,969', 'ft)', 'as', 'mountains,', 'those', 'below', 'being', 'referred', 'to', 'as', 'hills.\"', 'In', 'the', 'United', 'Kingdom', 'and', 'the', 'Republic', 'of', 'Ireland,', 'a', 'mountain', 'is', 'usually', 'defined', 'as', 'any', 'summit', 'at', 'least', '2,000', 'feet', '(610', 'm)', 'high,[6]', 'which', 'accords', 'with', 'the', 'official', 'UK', \"government's\", 'definition', 'that', 'a', 'mountain,', 'for', 'the', 'purposes', 'of', 'access,', 'is', 'a', 'summit', 'of', '2,000', 'feet', '(610', 'm)', 'or', 'higher.[7]', 'In', 'addition,', 'some', 'definitions', 'also', 'include', 'a', 'topographical', 'prominence', 'requirement,', 'such', 'as', 'that', 'the', 'mountain', 'rises', '300', 'metres', '(984', 'ft)', 'above', 'the', 'surrounding', 'terrain.[1]', 'At', 'one', 'time', 'the', 'US', 'Board', 'on', 'Geographic', 'Names', 'defined', 'a', 'mountain', 'as', 'being', '1,000', 'feet', '(305', 'm)', 'or', 'taller,[8]', 'but', 'has', 'abandoned', 'the', 'definition', 'since', 'the', '1970s.', 'Any', 'similar', 'landform', 'lower', 'than', 'this', 'height', 'was', 'considered', 'a', 'hill.', 'However,', 'today,', 'the', 'US', 'Geological', 'Survey', 'concludes', 'that', 'these', 'terms', 'do', 'not', 'have', 'technical', 'definitions', 'in', 'the', 'US.[9]']\n",
      "Stemmed Words: ['There', 'i', 'no', 'universally', 'accepted', 'definition', 'of', 'a', 'mountain.', 'Elevation,', 'volume,', 'relief,', 'steepness,', 'spacing', 'and', 'continuity', 'have', 'been', 'used', 'a', 'criteria', 'for', 'defining', 'a', 'mountain.[4]', 'In', 'the', 'Oxford', 'English', 'Dictionary', 'a', 'mountain', 'i', 'defined', 'a', '\"a', 'natural', 'elevation', 'of', 'the', 'earth', 'surface', 'rising', 'more', 'or', 'less', 'abruptly', 'from', 'the', 'surrounding', 'level', 'and', 'attaining', 'an', 'altitude', 'which,', 'relatively', 'to', 'the', 'adjacent', 'elevation,', 'i', 'impressive', 'or', 'notable.\"[4]', 'Whether', 'a', 'landform', 'i', 'called', 'a', 'mountain', 'may', 'depend', 'on', 'local', 'usage.', 'John', \"Whittow'\", 'Dictionary', 'of', 'Physical', 'Geography[5]', 'state', '\"Some', 'authoriti', 'regard', 'eminence', 'above', '600', 'metre', '(1,969', 'ft)', 'a', 'mountains,', 'those', 'below', 'being', 'referred', 'to', 'a', 'hills.\"', 'In', 'the', 'United', 'Kingdom', 'and', 'the', 'Republic', 'of', 'Ireland,', 'a', 'mountain', 'i', 'usually', 'defined', 'a', 'any', 'summit', 'at', 'least', '2,000', 'feet', '(610', 'm)', 'high,[6]', 'which', 'accord', 'with', 'the', 'official', 'UK', \"government'\", 'definition', 'that', 'a', 'mountain,', 'for', 'the', 'purpose', 'of', 'access,', 'i', 'a', 'summit', 'of', '2,000', 'feet', '(610', 'm)', 'or', 'higher.[7]', 'In', 'addition,', 'some', 'definition', 'also', 'include', 'a', 'topographical', 'prominence', 'requirement,', 'such', 'a', 'that', 'the', 'mountain', 'rise', '300', 'metre', '(984', 'ft)', 'above', 'the', 'surrounding', 'terrain.[1]', 'At', 'one', 'time', 'the', 'US', 'Board', 'on', 'Geographic', 'Name', 'defined', 'a', 'mountain', 'a', 'being', '1,000', 'feet', '(305', 'm)', 'or', 'taller,[8]', 'but', 'ha', 'abandoned', 'the', 'definition', 'since', 'the', '1970s.', 'Any', 'similar', 'landform', 'lower', 'than', 'thi', 'height', 'wa', 'considered', 'a', 'hill.', 'However,', 'today,', 'the', 'US', 'Geological', 'Survey', 'conclude', 'that', 'these', 'term', 'do', 'not', 'have', 'technical', 'definition', 'in', 'the', 'US.[9]']\n",
      "Total words changed due to stemming: 31\n"
     ]
    }
   ],
   "execution_count": 7
  },
  {
   "metadata": {},
   "cell_type": "code",
   "outputs": [],
   "execution_count": null,
   "source": "",
   "id": "15329ff84118408c"
  }
 ],
 "metadata": {
  "kernelspec": {
   "display_name": "Python 3",
   "language": "python",
   "name": "python3"
  },
  "language_info": {
   "codemirror_mode": {
    "name": "ipython",
    "version": 2
   },
   "file_extension": ".py",
   "mimetype": "text/x-python",
   "name": "python",
   "nbconvert_exporter": "python",
   "pygments_lexer": "ipython2",
   "version": "2.7.6"
  }
 },
 "nbformat": 4,
 "nbformat_minor": 5
}
